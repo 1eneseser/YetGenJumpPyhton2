{
 "cells": [
  {
   "cell_type": "code",
   "execution_count": 33,
   "metadata": {},
   "outputs": [
    {
     "name": "stdout",
     "output_type": "stream",
     "text": [
      "Hello World\n",
      "Hello World\n"
     ]
    }
   ],
   "source": [
    "print(\"Hello World\")\n",
    "print(\"\"\"Hello World\"\"\")  "
   ]
  },
  {
   "cell_type": "code",
   "execution_count": 34,
   "metadata": {},
   "outputs": [
    {
     "data": {
      "text/plain": [
       "'Hello World'"
      ]
     },
     "execution_count": 34,
     "metadata": {},
     "output_type": "execute_result"
    }
   ],
   "source": [
    "\"Hello World\""
   ]
  },
  {
   "cell_type": "code",
   "execution_count": 35,
   "metadata": {},
   "outputs": [
    {
     "name": "stdout",
     "output_type": "stream",
     "text": [
      "Python öğreniyorum\n",
      "YetGen ile python öğreniyorum\n"
     ]
    }
   ],
   "source": [
    "print(\"Python öğreniyorum\")\n",
    "print(\"YetGen ile python öğreniyorum\")  "
   ]
  },
  {
   "cell_type": "code",
   "execution_count": 36,
   "metadata": {},
   "outputs": [
    {
     "data": {
      "text/plain": [
       "'YetGen ile python öğreniyorum.'"
      ]
     },
     "execution_count": 36,
     "metadata": {},
     "output_type": "execute_result"
    }
   ],
   "source": [
    "\"python öğreniyorum\"\n",
    "\"YetGen ile python öğreniyorum.\" # tek satırlık bir şey yazdığımızda bu şekilde yazabiliriz."
   ]
  },
  {
   "attachments": {},
   "cell_type": "markdown",
   "metadata": {},
   "source": [
    "#### Print() Fonksiyonun Parametreleri\n",
    "\n",
    "1.sep\n",
    "* sep ifadesi, ekrana yansıyacak ögeler arasında hangi karakterin yerleştirileceğini gösterir. \n"
   ]
  },
  {
   "cell_type": "code",
   "execution_count": 37,
   "metadata": {},
   "outputs": [
    {
     "name": "stdout",
     "output_type": "stream",
     "text": [
      "Hello World,,Ben Enes\n"
     ]
    }
   ],
   "source": [
    "print(\"Hello World,\", \"Ben Enes\", sep=\",\")"
   ]
  },
  {
   "cell_type": "code",
   "execution_count": 38,
   "metadata": {},
   "outputs": [
    {
     "name": "stdout",
     "output_type": "stream",
     "text": [
      "PythonÖğreniyorum\n"
     ]
    }
   ],
   "source": [
    "print(\"Python\" , \"Öğreniyorum\", sep=\"\") # sep parametresi koyulmazsa bunu otomatik olarak kabul edip çalıştırıyor."
   ]
  },
  {
   "cell_type": "code",
   "execution_count": 39,
   "metadata": {},
   "outputs": [
    {
     "name": "stdout",
     "output_type": "stream",
     "text": [
      "Ankara/İstanbul/Edirne/Niğde\n"
     ]
    }
   ],
   "source": [
    "print(\"Ankara\" , \"İstanbul\" , \"Edirne\" , \"Niğde\" , sep=\"/\" )"
   ]
  },
  {
   "attachments": {},
   "cell_type": "markdown",
   "metadata": {},
   "source": [
    "#### 2.end parametresi \n",
    "* Tıpkı sep parametresi gibi, end parametresi de print() fonksiyonunda her zaman vardır. End parametresi ise  bu parametrelerin sonuna neyin geleceğini belirler. "
   ]
  },
  {
   "cell_type": "code",
   "execution_count": 40,
   "metadata": {},
   "outputs": [
    {
     "name": "stdout",
     "output_type": "stream",
     "text": [
      "Selam ben Enes."
     ]
    }
   ],
   "source": [
    "print(\"Selam ben Enes\" , end=\".\")\n"
   ]
  },
  {
   "attachments": {},
   "cell_type": "markdown",
   "metadata": {},
   "source": [
    "#### Yorum satırları \n",
    "* Python proglamlama dilinde tek satır halinde açıklama satırı eklemek için # işareti, çoklu yorum satırı oluştumak için 3 tek tırnak kullanılır.\n",
    "* Kodu inceleyenlen başka yazılımcılar için ipucu vermek için kullanılır."
   ]
  },
  {
   "cell_type": "code",
   "execution_count": 41,
   "metadata": {},
   "outputs": [
    {
     "name": "stdout",
     "output_type": "stream",
     "text": [
      "Hi\n"
     ]
    }
   ],
   "source": [
    "print(\"Hi\")  # sdpsosd*fosfd"
   ]
  },
  {
   "attachments": {},
   "cell_type": "markdown",
   "metadata": {},
   "source": [
    "### Değişken Tanımlama Kuralları \n",
    "* Değişken adlarında sayılar, harfler ya da alt çizgi kullanılabilir. Ama değişken isimleri alt çizgi ve ya harfle başlar "
   ]
  },
  {
   "cell_type": "code",
   "execution_count": 44,
   "metadata": {},
   "outputs": [
    {
     "name": "stdout",
     "output_type": "stream",
     "text": [
      "5\n",
      "5\n"
     ]
    }
   ],
   "source": [
    " #1kerem = kazim hatalı\n",
    "berkcan = 5 \n",
    "_fatih = 5\n",
    "\n",
    "#print(1kerem) hatalı\n",
    "print(berkcan)\n",
    "print(_fatih)\n"
   ]
  },
  {
   "attachments": {},
   "cell_type": "markdown",
   "metadata": {},
   "source": [
    "* Değişken adlandırırken türkçe karakter kullanmamalıyız.\n"
   ]
  },
  {
   "cell_type": "code",
   "execution_count": 45,
   "metadata": {},
   "outputs": [
    {
     "name": "stdout",
     "output_type": "stream",
     "text": [
      "8\n",
      "8\n"
     ]
    }
   ],
   "source": [
    "ağırlık = 8 \n",
    "agirlik = 8\n",
    "print(ağırlık) #ilerde bize sorun çıakrır. \n",
    "print(agirlik)\n"
   ]
  },
  {
   "attachments": {},
   "cell_type": "markdown",
   "metadata": {},
   "source": [
    "* Değişken isimlerinde boşluk bırakılmaz. \n",
    "* Genellikle camelCase veya snake_case kullanılır.\n",
    "* Değişken adlandırılırken rakamla başlanmaz.\n",
    "* Büyük küçük harf duyarlıdır.\n",
    "* Kodu okuan kişi dğişken adlarından ne için kullanıldığını anlamalıdır. \n",
    "* Ne çok uzun  ne çok kısa olmalıdır. "
   ]
  }
 ],
 "metadata": {
  "kernelspec": {
   "display_name": "Python 3",
   "language": "python",
   "name": "python3"
  },
  "language_info": {
   "codemirror_mode": {
    "name": "ipython",
    "version": 3
   },
   "file_extension": ".py",
   "mimetype": "text/x-python",
   "name": "python",
   "nbconvert_exporter": "python",
   "pygments_lexer": "ipython3",
   "version": "3.11.1"
  },
  "orig_nbformat": 4,
  "vscode": {
   "interpreter": {
    "hash": "393ad65c13098227a9afe4b94f16f18e9fcc50382e565a6a765fbf6854bfcfb4"
   }
  }
 },
 "nbformat": 4,
 "nbformat_minor": 2
}
