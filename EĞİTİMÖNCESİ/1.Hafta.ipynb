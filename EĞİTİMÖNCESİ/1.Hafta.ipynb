{
 "cells": [
  {
   "cell_type": "code",
   "execution_count": 9,
   "metadata": {},
   "outputs": [
    {
     "name": "stdout",
     "output_type": "stream",
     "text": [
      "Hello, World\n"
     ]
    }
   ],
   "source": [
    "print(\"Hello, World\")\n"
   ]
  },
  {
   "attachments": {},
   "cell_type": "markdown",
   "metadata": {},
   "source": [
    "# 1.Hafta Öğrendiklerimiz\n",
    "- KODLAMA ve PYHTON NEDİR?\n",
    "- VİSUAL STUDİO CODE KURULUMU\n",
    "- GİT KURULUMU\n",
    "- GİTHUB HESABI OLUŞTURMA \n",
    "\n",
    "### KODLAMA NEDİR? \n",
    "Kodlama problemleri çözmek, insan ve bilgisayar etkileşimini sağlayarak belirli görevleri bilgisayarlar tarafından gerçekleştirmek için çeşitli komut setleri ile yapılan uygulama ve geliştirme sürecidir. \n",
    "\n",
    "<img src=\"https://www.kozmoslisesi.com/wp-content/uploads/2020/09/programlama-dilleri.jpg\">\n",
    " \n",
    "### PYHTON NEDİR?\n",
    "Pyhton bir proglamlama dilidir. Öğrenilmesi kolay bir dildir. 1990 yılında Guido van Rossom tarafından Amsterdam'da geliştirilmeye başlanmıştır.\n",
    "\n",
    "<img src=\"https://res.cloudinary.com/practicaldev/image/fetch/s--YCJxZP4V--/c_imagga_scale,f_auto,fl_progressive,h_420,q_auto,w_1000/https://dev-to-uploads.s3.amazonaws.com/i/tteuu4xw5tomxb7l0xjx.png\">\n",
    "\n",
    "##### NEDEN PYHTON?\n",
    "Genel amaçlı bir dildir. \n",
    "Açık kaynak kodludur. Açık kaynak yazılım, uyarlanabilir, sağlam, hızlı ve güvenilirdir.\n",
    "Yorumlanabilir bir dildir. \n",
    "Modülerdir.\n",
    "Birçok platformda çalışma imkanı sunar. Grafik, oyun, yapay zeka vb.\n",
    "\n",
    "### GİT NEDİR?\n",
    "Git yazılım sistemlerinde kullanılan, hız odaklı ve dağıtık çalışan bir kontrol sistemidir.\n",
    "Git ücretsiz ve açık kaynak kodlu bir yapıdır. \n",
    "Git yapacağınız projelerin adım adım versiyonlarının kopyalarını alarak daha sonra ihtiyaç duyduğunuz zaman geri dönülebilir.\n",
    "İlk sürümü Linux çekirdeği'nin geliştirilmesinde kullanılmak üzere 2005 yılında Torvalds tarafından oluşturulmuştur.\n",
    "\n",
    "### NEDEN GİT KULLANMALIYIZ?\n",
    "Uyumlu bir ekip çalışması sunmaktadır.\n",
    "Projede hatayla karşılaştığımız zaman eski koda dönmemizi sağlar.\n",
    "Dosyalardaki her değişimin neden olduğunu rahatlıkla anlamamızı sağlar.\n",
    "Kodlarımızı yedekleme imkanı sunar.\n",
    "\n",
    "limk \n",
    "\n",
    "### GİTHUB NEDİR? \n",
    "GitHub, dünyanın en büyük geliştirici topluluklarından biridir.\n",
    "Git kullanarak yazılım geliştirme için web tabanlı bir bulut depolama servisidir.\n",
    "Tüm projelerimizi ister açık bir şekilde ya da kendimizin çalışabileceği gizli bir şekilde dosyalarnızı GitHub üzerinden yedekleyebilirsiniz.\n",
    "GitHub üzerinden paylaşılan kodlar ile kendinizi geliştirebilir, eklemeler yapabilirsiniz. \n",
    "Projelerinizin herkes tarafından görülmesini, değerlendirilmesini sağlar. \n",
    "\n",
    "\n",
    "!Repository veya repo, projelerinizin dosyalarının depolandığı bir dizidir.\n",
    "\n",
    "###### TEMEL GİT KOMUTLARI\n",
    "Commit + Push = Yapılan değişikliği GitHuba gönderir.\n",
    "\n",
    "Pull = Repodaki deeğişikliği bilgisayara çekmeyi sağlar.\n",
    "\n",
    "Clone = GitHub'da bulunan kodu bilgisayara çekmeyi sağlar.\n",
    "\n",
    "\n",
    "### Readme Dosyası Nedir? \n",
    "README dosyası bilgisayar yazılımının bir dizisindeki veya arşivindeki diğer dosyalar hakkında bilgi içeren, düz metin dosyası şeklinde bir belgedir. Bu sayede projeler hakkında bilgi sahibi olarak diğer kişilerin rahatlıkla projemizi anlamamızı sağlar. \n",
    "\n",
    "### MARDOWN \n",
    "Mardown, bir metin biçimlendirme dilidir.\n",
    "#1. Başlık\n",
    "##2.Başlık\n",
    "###3.Başlık\n",
    "####4. Başlık\n",
    "#####5. Başlık \n",
    "######6. Başlık\n",
    "\n",
    "** ** => kalın \n",
    "* *  => italik\n",
    "\n",
    "Link Ekleme [GitHub](https://pages.github.com/)\n",
    "\n",
    "Resim Ekleme ![ image ](link)\n",
    "<img src=\"link\">\n",
    "\n",
    "Diğer Markdown komutları için [tıklayınız.](https://www.markdownguide.org/getting-started/)\n",
    "\n",
    "\n"
   ]
  }
 ],
 "metadata": {
  "kernelspec": {
   "display_name": "Python 3",
   "language": "python",
   "name": "python3"
  },
  "language_info": {
   "codemirror_mode": {
    "name": "ipython",
    "version": 3
   },
   "file_extension": ".py",
   "mimetype": "text/x-python",
   "name": "python",
   "nbconvert_exporter": "python",
   "pygments_lexer": "ipython3",
   "version": "3.11.1"
  },
  "orig_nbformat": 4,
  "vscode": {
   "interpreter": {
    "hash": "393ad65c13098227a9afe4b94f16f18e9fcc50382e565a6a765fbf6854bfcfb4"
   }
  }
 },
 "nbformat": 4,
 "nbformat_minor": 2
}
