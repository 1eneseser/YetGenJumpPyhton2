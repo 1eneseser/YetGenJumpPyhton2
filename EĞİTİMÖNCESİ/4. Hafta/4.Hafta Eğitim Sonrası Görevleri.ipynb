{
 "cells": [
  {
   "cell_type": "markdown",
   "metadata": {},
   "source": [
    "# Problem 1\n",
    "`ogrenciler` adında bir sözlük oluşturunuz. Kullanıcıdan döngü yardımıyla 3 öğrenci için veri girmesini isteyerek öğrencilerin sırasıyla okul numarası, isim, soy isim, telefon numarası ve doğum tarihi bilgilerini alınız. Aldığınız öğrenci bilgilerini yine aynı döngü yardımıyla `ogrenciler` adındaki sözlükte saklayınız. Daha sonra öğrenci bilgilerinin bulunduğu sözlük yapısını ekrana bastırınız.\n",
    "\n"
   ]
  },
  {
   "cell_type": "code",
   "execution_count": 2,
   "metadata": {},
   "outputs": [
    {
     "name": "stdout",
     "output_type": "stream",
     "text": [
      "{'Öğrenci 1': {'Okul Numarası': '', 'İsim': '255', 'Soyisim': 'enes', 'Telefon': 'eser', 'Doğum Tarihi': '0252145222'}, 'Öğrenci 2': {'Okul Numarası': '202155', 'İsim': '202212', 'Soyisim': '020', 'Telefon': '022323', 'Doğum Tarihi': '02230'}, 'Öğrenci 3': {'Okul Numarası': '02001', 'İsim': '00212', 'Soyisim': '', 'Telefon': '525200', 'Doğum Tarihi': '0252'}}\n"
     ]
    }
   ],
   "source": [
    "# 1.Problemin Çözümünü Buraya Yazınız\n",
    "ogrenciler = {}\n",
    "\n",
    "for i in range(3):\n",
    "    ogrenci_no = input(\"{}. öğrencinin okul numarasını giriniz: \".format(i+1))\n",
    "    isim = input(\"{}. öğrencinin ismini giriniz: \".format(i+1))\n",
    "    soyisim = input(\"{}. öğrencinin soyismini giriniz: \".format(i+1))\n",
    "    telefon = input(\"{}. öğrencinin telefon numarasını giriniz: \".format(i+1))\n",
    "    dogum_tarihi = input(\"{}. öğrencinin doğum tarihini giriniz: \".format(i+1))\n",
    "    \n",
    "    ogrenci_bilgileri = {\"Okul Numarası\": ogrenci_no,\n",
    "                         \"İsim\": isim,\n",
    "                         \"Soyisim\": soyisim,\n",
    "                         \"Telefon\": telefon,\n",
    "                         \"Doğum Tarihi\": dogum_tarihi}\n",
    "    \n",
    "    ogrenciler[\"Öğrenci {}\".format(i+1)] = ogrenci_bilgileri\n",
    "    \n",
    "print(ogrenciler)\n",
    "\n"
   ]
  },
  {
   "cell_type": "markdown",
   "metadata": {},
   "source": [
    "# Problem 2\n",
    "\n",
    "### a - Biraz ısınarak başlayalım!\n",
    "\n",
    "```\n",
    "numbers = [5,10,10,15,15,15,20,20,20,20]\n",
    "```\n",
    "\n",
    "Yukarıda `numbers` adında 10 elemanlı bir liste verilmiştir. Bu listenin her elemanını kontrol eden ve tekrar eden elemanları bir kez olacak şekilde başka bir listeye kopyalayan bir program yazınız. Son olarak oluşturduğunuz listeyi ekrana bastırınız.\n",
    "\n",
    "\n",
    "\n",
    "\n",
    "```\n",
    ">Output\n",
    "[5, 10, 15, 20]\n",
    "```\n"
   ]
  },
  {
   "cell_type": "code",
   "execution_count": 1,
   "metadata": {},
   "outputs": [
    {
     "name": "stdout",
     "output_type": "stream",
     "text": [
      "[5, 10, 15, 20]\n"
     ]
    }
   ],
   "source": [
    "# 2.Problemin a Şıkkının Çözümünü Buraya Yazınız\n",
    "numbers = [5, 10, 10, 15, 15, 15, 20, 20, 20, 20]\n",
    "new_numbers = []\n",
    "for num in numbers:\n",
    "    if num not in new_numbers:\n",
    "        new_numbers.append(num)\n",
    "print(new_numbers)\n"
   ]
  },
  {
   "cell_type": "markdown",
   "metadata": {},
   "source": [
    "### 🌶️ b) Hadi işi biraz daha zorlaştıralım! \n",
    "\n",
    "\n",
    "Şimdiyse senden `numbers` isimli listedeki tekrar eden elemanları `repeatNumbers` adındaki listeye; tekrar etmeyen elemanları `uniqueNumbers`adındaki listeye kopyalayan yazmanı ve listeleri ekrana bastırmanı bekliyoruz\n",
    "\n",
    "```\n",
    ">Output\n",
    "Tekrar Eden Elemanlar: [10, 10, 15, 15, 15, 20, 20, 20, 20]\n",
    "Tekrar Etmeyen Elemanlar: [5]\n",
    "```"
   ]
  },
  {
   "cell_type": "code",
   "execution_count": 2,
   "metadata": {},
   "outputs": [
    {
     "name": "stdout",
     "output_type": "stream",
     "text": [
      "Tekrar Eden Elemanlar: [10, 15, 20]\n",
      "Tekrar Etmeyen Elemanlar: [5, 10, 15, 20]\n"
     ]
    }
   ],
   "source": [
    "# 2.Problemin b Şıkkının Çözümünü Buraya Yazınız\n",
    "numbers = [5, 10, 10, 15, 15, 15, 20, 20, 20, 20]\n",
    "repeatNumbers = []\n",
    "uniqueNumbers = []\n",
    "\n",
    "for num in numbers:\n",
    "    if num not in uniqueNumbers:\n",
    "        uniqueNumbers.append(num)\n",
    "    elif num not in repeatNumbers:\n",
    "        repeatNumbers.append(num)\n",
    "\n",
    "print(\"Tekrar Eden Elemanlar:\", repeatNumbers)\n",
    "print(\"Tekrar Etmeyen Elemanlar:\", uniqueNumbers)\n"
   ]
  },
  {
   "cell_type": "markdown",
   "metadata": {},
   "source": [
    "# Problem 3\n",
    "sn1 = {1,2,3,4,5}\n",
    "\n",
    "sn2 = {4,5,6,7,8}\n",
    "\n",
    " Verilen 2 adet küme için kesişimlerini, farklarını ve birleşimlerini bulunuz. "
   ]
  },
  {
   "cell_type": "code",
   "execution_count": 3,
   "metadata": {},
   "outputs": [
    {
     "name": "stdout",
     "output_type": "stream",
     "text": [
      "Kesişim: {4, 5}\n",
      "1. Kümenin 2. Kümeden Farkı: {1, 2, 3}\n",
      "2. Kümenin 1. Kümeden Farkı: {8, 6, 7}\n",
      "Birleşim: {1, 2, 3, 4, 5, 6, 7, 8}\n"
     ]
    }
   ],
   "source": [
    "# 3.Problemin Çözümünü Buraya Yazınız\n",
    "sn1 = {1, 2, 3, 4, 5}\n",
    "sn2 = {4, 5, 6, 7, 8}\n",
    "\n",
    "kesisim = sn1.intersection(sn2)\n",
    "fark1 = sn1.difference(sn2)\n",
    "fark2 = sn2.difference(sn1)\n",
    "birlesim = sn1.union(sn2)\n",
    "\n",
    "print(\"Kesişim:\", kesisim)\n",
    "print(\"1. Kümenin 2. Kümeden Farkı:\", fark1)\n",
    "print(\"2. Kümenin 1. Kümeden Farkı:\", fark2)\n",
    "print(\"Birleşim:\", birlesim)\n"
   ]
  },
  {
   "cell_type": "markdown",
   "metadata": {},
   "source": [
    "# Problem 4\n",
    "\n",
    "Buradaki işlemlerimizin tamamı stringler içindir. Aşağıda verilecek olan metodlar için kendinizin örnek yaratması gerekmektedir. \n",
    "\n",
    "Örneğin `upper` için `string` değişkeni oluştururken` k = \"BAC\"` şeklinde oluşturmayınız. Bunun yerine k değişkenini `k = \"bac`\" şeklinde oluşturmanız `upper` metodundaki değişimi görebilmeniz için daha iyi olacaktır.\n",
    "\n",
    "Bütün metodlardaki değişimin gözle görülür şekilde değişimi beklenmektedir.\n",
    "\n",
    "\n",
    "1- capitalize(), lower(), upper(), swapcase(), title(), replace()\n",
    "\n",
    "2- endswith(), startswith(), find(), index(), count()\n",
    "\n",
    "3- split(), strip(), join(), islower(), isalpha(), isdigit()\n",
    "\n",
    "\n",
    "Yukarıdaki `string` metodlarındaki değişimleri görebildiğimiz bir program yazınız.\n"
   ]
  },
  {
   "cell_type": "code",
   "execution_count": 4,
   "metadata": {},
   "outputs": [
    {
     "name": "stdout",
     "output_type": "stream",
     "text": [
      "Orjinal String: merhaba dünya\n",
      "capitalize(): Merhaba dünya\n",
      "lower(): merhaba dünya\n",
      "upper(): MERHABA DÜNYA\n",
      "swapcase(): MERHABA DÜNYA\n",
      "title(): Merhaba Dünya\n",
      "replace(): selam dünya\n",
      "endswith(): True\n",
      "startswith(): True\n",
      "find(): 8\n",
      "index(): 8\n",
      "count(): 3\n",
      "split(): ['merhaba', 'dünya']\n",
      "strip(): Merhaba Dünya\n",
      "join(): merhaba-dünya\n",
      "islower(): True\n",
      "isalpha(): False\n",
      "isdigit(): False\n"
     ]
    }
   ],
   "source": [
    "# 4.Problemin Çözümünü Buraya Yazınız\n",
    "string = \"merhaba dünya\"\n",
    "print(\"Orjinal String:\", string)\n",
    "\n",
    "# capitalize()\n",
    "string_capitalize = string.capitalize()\n",
    "print(\"capitalize():\", string_capitalize)\n",
    "\n",
    "# lower()\n",
    "string_lower = string.lower()\n",
    "print(\"lower():\", string_lower)\n",
    "\n",
    "# upper()\n",
    "string_upper = string.upper()\n",
    "print(\"upper():\", string_upper)\n",
    "\n",
    "# swapcase()\n",
    "string_swapcase = string.swapcase()\n",
    "print(\"swapcase():\", string_swapcase)\n",
    "\n",
    "# title()\n",
    "string_title = string.title()\n",
    "print(\"title():\", string_title)\n",
    "\n",
    "# replace()\n",
    "string_replace = string.replace(\"merhaba\", \"selam\")\n",
    "print(\"replace():\", string_replace)\n",
    "\n",
    "# endswith()\n",
    "endswith = string.endswith(\"dünya\")\n",
    "print(\"endswith():\", endswith)\n",
    "\n",
    "# startswith()\n",
    "startswith = string.startswith(\"merhaba\")\n",
    "print(\"startswith():\", startswith)\n",
    "\n",
    "# find()\n",
    "find = string.find(\"dünya\")\n",
    "print(\"find():\", find)\n",
    "\n",
    "# index()\n",
    "index = string.index(\"dünya\")\n",
    "print(\"index():\", index)\n",
    "\n",
    "# count()\n",
    "count = string.count(\"a\")\n",
    "print(\"count():\", count)\n",
    "\n",
    "# split()\n",
    "string_split = string.split()\n",
    "print(\"split():\", string_split)\n",
    "\n",
    "# strip()\n",
    "string_strip = \"    Merhaba Dünya     \"\n",
    "string_strip = string_strip.strip()\n",
    "print(\"strip():\", string_strip)\n",
    "\n",
    "# join()\n",
    "string_join = \"-\".join(string_split)\n",
    "print(\"join():\", string_join)\n",
    "\n",
    "# islower()\n",
    "islower = string.islower()\n",
    "print(\"islower():\", islower)\n",
    "\n",
    "# isalpha()\n",
    "isalpha = string.isalpha()\n",
    "print(\"isalpha():\", isalpha)\n",
    "\n",
    "# isdigit()\n",
    "isdigit = string.isdigit()\n",
    "print(\"isdigit():\", isdigit)\n"
   ]
  }
 ],
 "metadata": {
  "kernelspec": {
   "display_name": "Python 3.10.5 64-bit",
   "language": "python",
   "name": "python3"
  },
  "language_info": {
   "codemirror_mode": {
    "name": "ipython",
    "version": 3
   },
   "file_extension": ".py",
   "mimetype": "text/x-python",
   "name": "python",
   "nbconvert_exporter": "python",
   "pygments_lexer": "ipython3",
   "version": "3.11.1"
  },
  "orig_nbformat": 4,
  "vscode": {
   "interpreter": {
    "hash": "5026d2d6e7aaaaba093def813beadff083d8733e4a511af01735cbabd156995d"
   }
  }
 },
 "nbformat": 4,
 "nbformat_minor": 2
}
